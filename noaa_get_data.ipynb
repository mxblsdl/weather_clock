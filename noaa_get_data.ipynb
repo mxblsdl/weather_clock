{
 "metadata": {
  "language_info": {
   "codemirror_mode": {
    "name": "ipython",
    "version": 3
   },
   "file_extension": ".py",
   "mimetype": "text/x-python",
   "name": "python",
   "nbconvert_exporter": "python",
   "pygments_lexer": "ipython3",
   "version": "3.8.5-final"
  },
  "orig_nbformat": 2,
  "kernelspec": {
   "name": "python38564bit85dcbd0d096e4bc59141db86e8b8e649",
   "display_name": "Python 3.8.5 64-bit",
   "language": "python"
  }
 },
 "nbformat": 4,
 "nbformat_minor": 2,
 "cells": [
  {
   "cell_type": "code",
   "execution_count": 28,
   "metadata": {},
   "outputs": [],
   "source": [
    "from noaa_sdk import NOAA"
   ]
  },
  {
   "cell_type": "code",
   "execution_count": 29,
   "metadata": {},
   "outputs": [],
   "source": [
    "n = NOAA()\n",
    "observations = n.get_forecasts('97218', \"US\")"
   ]
  },
  {
   "cell_type": "code",
   "execution_count": 56,
   "metadata": {},
   "outputs": [
    {
     "output_type": "execute_result",
     "data": {
      "text/plain": [
       "{'isDaytime': False,\n",
       " 'startTime': '2021-03-01T19:00:00-08:00',\n",
       " 'temperature': 50,\n",
       " 'temperatureTrend': None,\n",
       " 'windSpeed': '3 mph',\n",
       " 'windDirection': 'WNW',\n",
       " 'shortForecast': 'Mostly Clear'}"
      ]
     },
     "metadata": {},
     "execution_count": 56
    }
   ],
   "source": [
    "def get_observations(n, zip, hour):\n",
    "    o = n.get_forecasts(zip, \"US\")\n",
    "    d = {k:o[hour][k] for k in [\"isDaytime\", \"startTime\", \"temperature\", \"temperatureTrend\", \"windSpeed\", \"windDirection\", \"shortForecast\"]}\n",
    "    return(d)\n",
    "\n",
    "get_observations(n, '97218', 0)"
   ]
  }
 ]
}